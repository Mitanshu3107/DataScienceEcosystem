{
 "cells": [
  {
   "cell_type": "markdown",
   "id": "6e8f2b9f-f020-4a69-aa4c-e8ba0ac6a9df",
   "metadata": {},
   "source": [
    "# Data Science Tools and Ecosystem"
   ]
  },
  {
   "cell_type": "markdown",
   "id": "47d29e81-2340-45e9-b110-6f7bfe435c80",
   "metadata": {},
   "source": [
    "### In this notebook, Data Science Tools and Ecosystem are summarized."
   ]
  },
  {
   "cell_type": "markdown",
   "id": "114fe84b-d94c-427c-9f80-354441fa874e",
   "metadata": {},
   "source": [
    "Some of the popular languages that Data Scientists use are:\n",
    "1. Python\n",
    "2. R\n",
    "3. SQL\n",
    "4. C++\n",
    "5. Java etc..;"
   ]
  },
  {
   "cell_type": "markdown",
   "id": "4c247cef-755c-48ed-9542-2b79df1f1890",
   "metadata": {},
   "source": [
    "Some of the commonly used libraries used by Data Scientists include:\n",
    "1. NumPy\n",
    "2. Matplotlib\n",
    "3. Pandas\n",
    "4. SciPy\n",
    "5. PyTorch\n",
    "6. Seaborn"
   ]
  },
  {
   "cell_type": "markdown",
   "id": "a1faebfa-a620-4cec-be02-e4e4c05e4564",
   "metadata": {},
   "source": [
    "|Data Science Tools |\n",
    "|--------------------|\n",
    " | Anaconda |\n",
    " | Jyupter Notebook |\n",
    " | TensorFlow |\n",
    " | Apache Haddoop |"
   ]
  },
  {
   "cell_type": "markdown",
   "id": "bbbeaa6b-4835-4a56-ac21-96b52399c63e",
   "metadata": {},
   "source": [
    "### Below are a few examples of evaluating arithmetic expressions in Python"
   ]
  },
  {
   "cell_type": "code",
   "execution_count": 1,
   "id": "7753c77c-a85a-40f7-9a75-9f8ce60f5a02",
   "metadata": {},
   "outputs": [
    {
     "data": {
      "text/plain": [
       "17"
      ]
     },
     "execution_count": 1,
     "metadata": {},
     "output_type": "execute_result"
    }
   ],
   "source": [
    "#This a simple arithmetic expression to mutiply then add integers\n",
    "(3*4)+5"
   ]
  },
  {
   "cell_type": "code",
   "execution_count": 2,
   "id": "776496fc-b6ec-4aac-b5ca-251e877c66aa",
   "metadata": {},
   "outputs": [
    {
     "data": {
      "text/plain": [
       "3.3333333333333335"
      ]
     },
     "execution_count": 2,
     "metadata": {},
     "output_type": "execute_result"
    }
   ],
   "source": [
    "#This will convert 200 minutes to hours by diving by 60\n",
    "200/60\n"
   ]
  },
  {
   "cell_type": "markdown",
   "id": "ab72cb24-0dfd-4dc7-a445-c5827c10a997",
   "metadata": {},
   "source": [
    "__Objectives:__\n",
    "* List popular languages for Data Science.\n",
    "* List popular libaries for Data Science.\n",
    "* List all the Data types.\n",
    "* List the all the machine learning methods.\n",
    "* list the different types of graphs."
   ]
  },
  {
   "cell_type": "markdown",
   "id": "40f5c90f-9f0e-4dfd-9175-de1921285bdb",
   "metadata": {},
   "source": [
    "## Author\n",
    "Mitanshu Roy"
   ]
  }
 ],
 "metadata": {
  "kernelspec": {
   "display_name": "Python 3 (ipykernel)",
   "language": "python",
   "name": "python3"
  },
  "language_info": {
   "codemirror_mode": {
    "name": "ipython",
    "version": 3
   },
   "file_extension": ".py",
   "mimetype": "text/x-python",
   "name": "python",
   "nbconvert_exporter": "python",
   "pygments_lexer": "ipython3",
   "version": "3.12.3"
  }
 },
 "nbformat": 4,
 "nbformat_minor": 5
}
